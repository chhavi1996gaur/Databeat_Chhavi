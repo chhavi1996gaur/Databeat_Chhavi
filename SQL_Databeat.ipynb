{
 "cells": [
  {
   "cell_type": "code",
   "execution_count": 1,
   "metadata": {},
   "outputs": [],
   "source": [
    "import mysql.connector\n",
    "import pymysql"
   ]
  },
  {
   "cell_type": "code",
   "execution_count": null,
   "metadata": {},
   "outputs": [],
   "source": [
    "user = 'user'            # Change this to your user name\n",
    "password = 'password'     # Change this to your password"
   ]
  },
  {
   "cell_type": "code",
   "execution_count": 2,
   "metadata": {},
   "outputs": [],
   "source": [
    "mydb = mysql.connector.connect(host = 'localhost', user = 'user', password = 'password')\n",
    "\n",
    "mycursor = mydb.cursor()\n",
    "\n",
    "mycursor.execute('CREATE DATABASE Databeat')\n",
    "mydb.close()"
   ]
  },
  {
   "cell_type": "code",
   "execution_count": 3,
   "metadata": {},
   "outputs": [],
   "source": [
    "mydb = mysql.connector.connect(host = 'localhost', user = 'user', password = 'password', database = 'Databeat')\n",
    "\n",
    "mycusror = mydb.cursor()\n",
    "\n",
    "mycusror.execute('CREATE TABLE Employees(EMP_ID INT PRIMARY KEY, FIRST_NAME VARCHAR(20) NOT NULL, LAST_NAME VARCHAR(20) NOT NULL, SALARY INT NOT NULL, JOINING_DATE datetime NOT NULL, DEPARTMENT VARCHAR(10) NOT NULL )')\n",
    "mydb.close()"
   ]
  },
  {
   "cell_type": "code",
   "execution_count": 4,
   "metadata": {},
   "outputs": [],
   "source": [
    "mydb = mysql.connector.connect(host = 'localhost', user = 'user', password = 'password', database = 'Databeat')\n",
    "\n",
    "mycusror = mydb.cursor()\n",
    "\n",
    "mycusror.execute(\"INSERT INTO Employees VALUES(001, 'MANISH', 'AGARWAL', 700000, '2019-04-20 09:00:00', 'HR'), \\\n",
    "(002, 'NIRANJAN', 'BOSE', 20000, '2019-02-11 09:00:00', 'DA'), (003, 'VIVEK', 'SINGH', 100000, '2019-01-20 09:00:00', 'DA'),\\\n",
    "(004, 'ASUTOSH', 'KAPOOR', 700000, '2019-03-20 09:00:00', 'HR'), (005, 'VIHAAN', 'BANERJEE', 300000, '2019-06-11 09:00:00', 'DA'),\\\n",
    "(006, 'ATUL', 'DIWEDI', 400000, '2019-05-11 09:00:00', 'Account'), (007, 'SATYENDRA', 'TRIPATHI', 95000, '2019-03-20 09:00:00', 'Account'),\\\n",
    "(008, 'PRITIKA', 'BHATT', 80000, '2019-02-11 09:00:00', 'DA')\")\n",
    "mydb.commit()\n",
    "\n",
    "mydb.close()"
   ]
  },
  {
   "cell_type": "code",
   "execution_count": 11,
   "metadata": {},
   "outputs": [],
   "source": [
    "mydb = mysql.connector.connect(host = 'localhost', user = 'user', password = 'password', database = 'Databeat')\n",
    "\n",
    "mycusror = mydb.cursor()\n",
    "\n",
    "mycusror.execute('CREATE TABLE Variables_Details(EMP_REF_ID INT, FOREIGN KEY(EMP_REF_ID) REFERENCES Employees(EMP_ID), VARIABLE_DATE datetime NOT NULL, VARIABLES_AMOUNT INT NOT NULL)')\n",
    "mydb.close()"
   ]
  },
  {
   "cell_type": "code",
   "execution_count": 12,
   "metadata": {},
   "outputs": [],
   "source": [
    "mydb = mysql.connector.connect(host = 'localhost', user = 'user', password = 'password', database = 'Databeat')\n",
    "\n",
    "mycusror = mydb.cursor()\n",
    "\n",
    "mycusror.execute(\"INSERT INTO Variables_Details VALUES(1, '2019-02-20 00:00:00', 15000), (2, '2019-06-11 00:00:00', 30000),\\\n",
    "(3, '2019-02-20 00:00:00', 42000), (4, '2019-02-20 00:00:00', 14500), (5, '2019-06-11 00:00:00', 23500)\")\n",
    "mydb.commit()\n",
    "\n",
    "mydb.close()"
   ]
  },
  {
   "cell_type": "code",
   "execution_count": 13,
   "metadata": {},
   "outputs": [],
   "source": [
    "mydb = mysql.connector.connect(host = 'localhost', user = 'user', password = 'password', database = 'Databeat')\n",
    "\n",
    "mycusror = mydb.cursor()\n",
    "\n",
    "mycusror.execute('CREATE TABLE Designation_Table(EMP_REF_ID INT, FOREIGN KEY(EMP_REF_ID) REFERENCES Employees(EMP_ID), EMP_TITLE VARCHAR(20) NOT NULL, AFFECTED_FROM datetime NOT NULL)')\n",
    "mydb.close()"
   ]
  },
  {
   "cell_type": "code",
   "execution_count": 15,
   "metadata": {},
   "outputs": [],
   "source": [
    "mydb = mysql.connector.connect(host = 'localhost', user = 'user', password = 'password', database = 'Databeat')\n",
    "\n",
    "mycusror = mydb.cursor()\n",
    "\n",
    "mycusror.execute(\"INSERT INTO Designation_Table VALUES(1, 'Asst. Manager', '2019-02-20 00:00:00'), (2, 'Senior Analyst', '2019-02-20 00:00:00'),\\\n",
    "(8, 'Senior Analyst', '2019-01-11 00:00:00'), (5, 'Manager', '2019-10-06 00:00:00'), (4, 'Asst. Manager', '2019-12-06 00:00:00'),\\\n",
    "(7, 'Team Lead', '2019-06-06 00:00:00'), (6, 'Team Lead', '2019-09-06 00:00:00'), (3, 'Senior Analyst', '2019-08-06 00:00:00')\")\n",
    "mydb.commit()\n",
    "\n",
    "mydb.close()"
   ]
  },
  {
   "cell_type": "markdown",
   "metadata": {},
   "source": [
    "### 1.\tINNER JOIN: The INNER JOIN keyword selects all rows from both the tables as long as the condition satisfies. This keyword will create the result-set by combining all rows from both the tables where the condition satisfies i.e value of the common field will be same."
   ]
  },
  {
   "cell_type": "code",
   "execution_count": 74,
   "metadata": {},
   "outputs": [
    {
     "name": "stdout",
     "output_type": "stream",
     "text": [
      "[(datetime.datetime(2019, 4, 20, 9, 0), 'MANISH', 'AGARWAL', 'Asst. Manager'), (datetime.datetime(2019, 2, 11, 9, 0), 'NIRANJAN', 'BOSE', 'Senior Analyst'), (datetime.datetime(2019, 1, 20, 9, 0), 'VIVEK', 'SINGH', 'Senior Analyst'), (datetime.datetime(2019, 3, 20, 9, 0), 'ASUTOSH', 'KAPOOR', 'Asst. Manager'), (datetime.datetime(2019, 6, 11, 9, 0), 'VIHAAN', 'BANERJEE', 'Manager'), (datetime.datetime(2019, 5, 11, 9, 0), 'ATUL', 'DIWEDI', 'Team Lead'), (datetime.datetime(2019, 3, 20, 9, 0), 'SATYENDRA', 'TRIPATHI', 'Team Lead'), (datetime.datetime(2019, 2, 11, 9, 0), 'PRITIKA', 'BHATT', 'Senior Analyst')]\n"
     ]
    }
   ],
   "source": [
    "mydb = mysql.connector.connect(host = 'localhost', user = 'user', password = 'password', database = 'Databeat')\n",
    "\n",
    "mycusror = mydb.cursor()\n",
    "\n",
    "mycusror.execute(\"SELECT Employees.JOINING_DATE, Employees.FIRST_NAME, Employees.LAST_NAME, Designation_Table.EMP_TITLE FROM Employees  INNER JOIN Designation_Table ON Employees.EMP_ID = Designation_Table.EMP_REF_ID\")\n",
    "\n",
    "result = mycusror.fetchall();\n",
    "print(result)\n",
    "\n",
    "mydb.close()"
   ]
  },
  {
   "cell_type": "markdown",
   "metadata": {},
   "source": [
    "### 2.\tRIGHT JOIN: RIGHT JOIN is similar to LEFT JOIN. This join returns all the rows of the table on the right side of the join and matching rows for the table on the left side of join. The rows for which there is no matching row on left side, the result-set will contain null. RIGHT JOIN is also known as RIGHT OUTER JOIN"
   ]
  },
  {
   "cell_type": "code",
   "execution_count": 73,
   "metadata": {},
   "outputs": [
    {
     "name": "stdout",
     "output_type": "stream",
     "text": [
      "[(datetime.datetime(2019, 4, 20, 9, 0), 'MANISH', 'AGARWAL', 'Asst. Manager'), (datetime.datetime(2019, 2, 11, 9, 0), 'NIRANJAN', 'BOSE', 'Senior Analyst'), (datetime.datetime(2019, 2, 11, 9, 0), 'PRITIKA', 'BHATT', 'Senior Analyst'), (datetime.datetime(2019, 6, 11, 9, 0), 'VIHAAN', 'BANERJEE', 'Manager'), (datetime.datetime(2019, 3, 20, 9, 0), 'ASUTOSH', 'KAPOOR', 'Asst. Manager'), (datetime.datetime(2019, 3, 20, 9, 0), 'SATYENDRA', 'TRIPATHI', 'Team Lead'), (datetime.datetime(2019, 5, 11, 9, 0), 'ATUL', 'DIWEDI', 'Team Lead'), (datetime.datetime(2019, 1, 20, 9, 0), 'VIVEK', 'SINGH', 'Senior Analyst')]\n"
     ]
    }
   ],
   "source": [
    "mydb = mysql.connector.connect(host = 'localhost', user = 'user', password = 'password', database = 'Databeat')\n",
    "\n",
    "mycusror = mydb.cursor()\n",
    "\n",
    "mycusror.execute(\"SELECT Employees.JOINING_DATE, Employees.FIRST_NAME, Employees.LAST_NAME, Designation_Table.EMP_TITLE FROM Employees RIGHT JOIN Designation_Table ON Employees.EMP_ID = Designation_Table.EMP_REF_ID\")\n",
    "\n",
    "result = mycusror.fetchall();\n",
    "print(result)\n",
    "\n",
    "mydb.close()"
   ]
  },
  {
   "cell_type": "markdown",
   "metadata": {},
   "source": [
    "### 3.\tLEFT JOIN: This join returns all the rows of the table on the left side of the join and matching rows for the table on the right side of join. The rows for which there is no matching row on right side, the result-set will contain null. LEFT JOIN is also known as LEFT OUTER JOIN"
   ]
  },
  {
   "cell_type": "code",
   "execution_count": 71,
   "metadata": {},
   "outputs": [
    {
     "name": "stdout",
     "output_type": "stream",
     "text": [
      "[(datetime.datetime(2019, 4, 20, 9, 0), 'MANISH', 'AGARWAL', 'Asst. Manager'), (datetime.datetime(2019, 2, 11, 9, 0), 'NIRANJAN', 'BOSE', 'Senior Analyst'), (datetime.datetime(2019, 1, 20, 9, 0), 'VIVEK', 'SINGH', 'Senior Analyst'), (datetime.datetime(2019, 3, 20, 9, 0), 'ASUTOSH', 'KAPOOR', 'Asst. Manager'), (datetime.datetime(2019, 6, 11, 9, 0), 'VIHAAN', 'BANERJEE', 'Manager'), (datetime.datetime(2019, 5, 11, 9, 0), 'ATUL', 'DIWEDI', 'Team Lead'), (datetime.datetime(2019, 3, 20, 9, 0), 'SATYENDRA', 'TRIPATHI', 'Team Lead'), (datetime.datetime(2019, 2, 11, 9, 0), 'PRITIKA', 'BHATT', 'Senior Analyst')]\n"
     ]
    }
   ],
   "source": [
    "mydb = mysql.connector.connect(host = 'localhost', user = 'user', password = 'password', database = 'Databeat')\n",
    "\n",
    "mycusror = mydb.cursor()\n",
    "\n",
    "mycusror.execute(\"SELECT Employees.JOINING_DATE, Employees.FIRST_NAME, Employees.LAST_NAME, Designation_Table.EMP_TITLE  FROM Employees LEFT JOIN Designation_Table ON Employees.EMP_ID = Designation_Table.EMP_REF_ID\")\n",
    "\n",
    "result = mycusror.fetchall();\n",
    "print(result)\n",
    "\n",
    "mydb.close()"
   ]
  },
  {
   "cell_type": "markdown",
   "metadata": {},
   "source": [
    "### Employee details(full name and department) who received the least variables"
   ]
  },
  {
   "cell_type": "code",
   "execution_count": 33,
   "metadata": {},
   "outputs": [
    {
     "name": "stdout",
     "output_type": "stream",
     "text": [
      "[('ASUTOSH', 'KAPOOR', 'HR', 14500)]\n"
     ]
    }
   ],
   "source": [
    "mydb = mysql.connector.connect(host = 'localhost', user = 'user', password = 'password', database = 'Databeat')\n",
    "\n",
    "mycusror = mydb.cursor()\n",
    "\n",
    "mycusror.execute(\"SELECT FIRST_NAME, LAST_NAME, DEPARTMENT, Variables_Details.VARIABLES_AMOUNT FROM Employees Employees LEFT JOIN Variables_Details ON Employees.EMP_ID = Variables_Details.EMP_REF_ID WHERE VARIABLES_AMOUNT IN (SELECT MIN(VARIABLES_AMOUNT) FROM Variables_Details)\")\n",
    "\n",
    "result = mycusror.fetchall();\n",
    "print(result)\n",
    "\n",
    "mydb.close()"
   ]
  },
  {
   "cell_type": "markdown",
   "metadata": {},
   "source": [
    "### Employee details(full name and department) who received the  highest variables"
   ]
  },
  {
   "cell_type": "code",
   "execution_count": 34,
   "metadata": {},
   "outputs": [
    {
     "name": "stdout",
     "output_type": "stream",
     "text": [
      "[('VIVEK', 'SINGH', 'DA', 42000)]\n"
     ]
    }
   ],
   "source": [
    "mydb = mysql.connector.connect(host = 'localhost', user = 'user', password = 'password', database = 'Databeat')\n",
    "\n",
    "mycusror = mydb.cursor()\n",
    "\n",
    "mycusror.execute(\"SELECT FIRST_NAME, LAST_NAME, DEPARTMENT, Variables_Details.VARIABLES_AMOUNT FROM Employees Employees LEFT JOIN Variables_Details ON Employees.EMP_ID = Variables_Details.EMP_REF_ID WHERE VARIABLES_AMOUNT IN (SELECT MAX(VARIABLES_AMOUNT) FROM Variables_Details)\")\n",
    "\n",
    "result = mycusror.fetchall();\n",
    "print(result)\n",
    "\n",
    "mydb.close()"
   ]
  },
  {
   "cell_type": "markdown",
   "metadata": {},
   "source": [
    "### Write a query to get the designation which has got the highest  (salary + variables)  for the whole year of 2019. Get the corresponding amount values."
   ]
  },
  {
   "cell_type": "code",
   "execution_count": 36,
   "metadata": {},
   "outputs": [
    {
     "name": "stdout",
     "output_type": "stream",
     "text": [
      "[('VIVEK', 'SINGH', 'DA', 42000, 142000)]\n"
     ]
    }
   ],
   "source": [
    "mydb = mysql.connector.connect(host = 'localhost', user = 'user', password = 'password', database = 'Databeat')\n",
    "\n",
    "mycusror = mydb.cursor()\n",
    "\n",
    "mycusror.execute(\"SELECT FIRST_NAME, LAST_NAME, DEPARTMENT, Variables_Details.VARIABLES_AMOUNT, Employees.SALARY + Variables_Details.VARIABLES_AMOUNT FROM Employees Employees LEFT JOIN Variables_Details ON Employees.EMP_ID = Variables_Details.EMP_REF_ID WHERE Employees.SALARY + Variables_Details.VARIABLES_AMOUNT = (SELECT MAX(Employees.SALARY + Variables_Details.VARIABLES_AMOUNT) FROM Variables_Details)\")\n",
    "\n",
    "result = mycusror.fetchall();\n",
    "print(result)\n",
    "\n",
    "mydb.close()"
   ]
  },
  {
   "cell_type": "markdown",
   "metadata": {},
   "source": [
    "### Write a query to get the designation which has got the second lowest  (salary + variables)  for the whole year of 2019. Get the corresponding amount values."
   ]
  },
  {
   "cell_type": "code",
   "execution_count": 69,
   "metadata": {},
   "outputs": [
    {
     "name": "stdout",
     "output_type": "stream",
     "text": [
      "[('MANISH', 'AGARWAL', 'HR', 15000, 715000)]\n"
     ]
    }
   ],
   "source": [
    "mydb = mysql.connector.connect(host = 'localhost', user = 'user', password = 'password', database = 'Databeat')\n",
    "\n",
    "mycusror = mydb.cursor()\n",
    "\n",
    "mycusror.execute(\"SELECT FIRST_NAME, LAST_NAME, DEPARTMENT, Variables_Details.VARIABLES_AMOUNT, Employees.SALARY + Variables_Details.VARIABLES_AMOUNT FROM Employees Employees LEFT JOIN Variables_Details ON Employees.EMP_ID = Variables_Details.EMP_REF_ID WHERE Employees.SALARY + Variables_Details.VARIABLES_AMOUNT > (SELECT MIN(Employees.SALARY + Variables_Details.VARIABLES_AMOUNT) FROM Variables_Details) ORDER BY (Employees.SALARY + Variables_Details.VARIABLES_AMOUNT) DESC LIMIT 1\")\n",
    "\n",
    "result = mycusror.fetchall();\n",
    "print(result)\n",
    "\n",
    "mydb.close()"
   ]
  },
  {
   "cell_type": "markdown",
   "metadata": {},
   "source": [
    "### Cross Join: The CROSS JOIN is used to generate a paired combination of each row of the first table with each row of the second table."
   ]
  },
  {
   "cell_type": "code",
   "execution_count": 75,
   "metadata": {},
   "outputs": [
    {
     "name": "stdout",
     "output_type": "stream",
     "text": [
      "[(datetime.datetime(2019, 4, 20, 9, 0), 'MANISH', 'AGARWAL', 'Asst. Manager'), (datetime.datetime(2019, 2, 11, 9, 0), 'NIRANJAN', 'BOSE', 'Senior Analyst'), (datetime.datetime(2019, 1, 20, 9, 0), 'VIVEK', 'SINGH', 'Senior Analyst'), (datetime.datetime(2019, 3, 20, 9, 0), 'ASUTOSH', 'KAPOOR', 'Asst. Manager'), (datetime.datetime(2019, 6, 11, 9, 0), 'VIHAAN', 'BANERJEE', 'Manager'), (datetime.datetime(2019, 5, 11, 9, 0), 'ATUL', 'DIWEDI', 'Team Lead'), (datetime.datetime(2019, 3, 20, 9, 0), 'SATYENDRA', 'TRIPATHI', 'Team Lead'), (datetime.datetime(2019, 2, 11, 9, 0), 'PRITIKA', 'BHATT', 'Senior Analyst')]\n"
     ]
    }
   ],
   "source": [
    "mydb = mysql.connector.connect(host = 'localhost', user = 'user', password = 'password', database = 'Databeat')\n",
    "\n",
    "mycusror = mydb.cursor()\n",
    "\n",
    "mycusror.execute(\"SELECT Employees.JOINING_DATE, Employees.FIRST_NAME, Employees.LAST_NAME, Designation_Table.EMP_TITLE FROM Employees CROSS JOIN Designation_Table ON Employees.EMP_ID = Designation_Table.EMP_REF_ID\")\n",
    "\n",
    "result = mycusror.fetchall();\n",
    "print(result)\n",
    "\n",
    "mydb.close()"
   ]
  },
  {
   "cell_type": "markdown",
   "metadata": {},
   "source": [
    "### What are the clauses used with Select statements and what are the orders of it? Write a query to get the employee details who got their designations updated in the second half of the year 2019(July to December), sorted by the “variables_amount” (highest to lowest) where the department name of the Employee has the letter ‘A’ in it.\n"
   ]
  },
  {
   "cell_type": "markdown",
   "metadata": {},
   "source": [
    "### Select statement has following clauses in logical order:\n",
    "### 1. FROM\n",
    "### 2. WHERE\n",
    "### 3. GROUP BY\n",
    "### 4. HAVING\n",
    "### 5. ORDER BY"
   ]
  },
  {
   "cell_type": "markdown",
   "metadata": {},
   "source": [
    "### What is a Cursor? Write a query/queries to use the cursor to store the Employees Name( full name) for the HR department into a variable called ‘emp_names’\n"
   ]
  },
  {
   "cell_type": "markdown",
   "metadata": {},
   "source": [
    "### The MySQLCursor of mysql-connector-python (and similar libraries) is used to execute statements to communicate with the MySQL database.\n",
    "\n",
    "### Using the methods of it you can execute SQL statements, fetch data from the result sets, call procedures."
   ]
  },
  {
   "cell_type": "code",
   "execution_count": 2,
   "metadata": {
    "collapsed": true
   },
   "outputs": [
    {
     "ename": "ProgrammingError",
     "evalue": "1060 (42S21): Duplicate column name 'emp_names'",
     "output_type": "error",
     "traceback": [
      "\u001b[1;31m---------------------------------------------------------------------------\u001b[0m",
      "\u001b[1;31mProgrammingError\u001b[0m                          Traceback (most recent call last)",
      "\u001b[1;32m<ipython-input-2-e4038931c674>\u001b[0m in \u001b[0;36m<module>\u001b[1;34m\u001b[0m\n\u001b[0;32m      3\u001b[0m \u001b[0mmycusror\u001b[0m \u001b[1;33m=\u001b[0m \u001b[0mmydb\u001b[0m\u001b[1;33m.\u001b[0m\u001b[0mcursor\u001b[0m\u001b[1;33m(\u001b[0m\u001b[1;33m)\u001b[0m\u001b[1;33m\u001b[0m\u001b[1;33m\u001b[0m\u001b[0m\n\u001b[0;32m      4\u001b[0m \u001b[1;33m\u001b[0m\u001b[0m\n\u001b[1;32m----> 5\u001b[1;33m \u001b[0mmycusror\u001b[0m\u001b[1;33m.\u001b[0m\u001b[0mexecute\u001b[0m\u001b[1;33m(\u001b[0m\u001b[1;34m\"ALTER TABLE Employees ADD COLUMN emp_names VARCHAR(50)\"\u001b[0m\u001b[1;33m)\u001b[0m\u001b[1;33m\u001b[0m\u001b[1;33m\u001b[0m\u001b[0m\n\u001b[0m\u001b[0;32m      6\u001b[0m \u001b[1;33m\u001b[0m\u001b[0m\n\u001b[0;32m      7\u001b[0m '''result = mycusror.fetchall();\n",
      "\u001b[1;32m~\\anaconda3\\lib\\site-packages\\mysql\\connector\\cursor.py\u001b[0m in \u001b[0;36mexecute\u001b[1;34m(self, operation, params, multi)\u001b[0m\n\u001b[0;32m    566\u001b[0m \u001b[1;33m\u001b[0m\u001b[0m\n\u001b[0;32m    567\u001b[0m         \u001b[1;32mtry\u001b[0m\u001b[1;33m:\u001b[0m\u001b[1;33m\u001b[0m\u001b[1;33m\u001b[0m\u001b[0m\n\u001b[1;32m--> 568\u001b[1;33m             \u001b[0mself\u001b[0m\u001b[1;33m.\u001b[0m\u001b[0m_handle_result\u001b[0m\u001b[1;33m(\u001b[0m\u001b[0mself\u001b[0m\u001b[1;33m.\u001b[0m\u001b[0m_connection\u001b[0m\u001b[1;33m.\u001b[0m\u001b[0mcmd_query\u001b[0m\u001b[1;33m(\u001b[0m\u001b[0mstmt\u001b[0m\u001b[1;33m)\u001b[0m\u001b[1;33m)\u001b[0m\u001b[1;33m\u001b[0m\u001b[1;33m\u001b[0m\u001b[0m\n\u001b[0m\u001b[0;32m    569\u001b[0m         \u001b[1;32mexcept\u001b[0m \u001b[0merrors\u001b[0m\u001b[1;33m.\u001b[0m\u001b[0mInterfaceError\u001b[0m\u001b[1;33m:\u001b[0m\u001b[1;33m\u001b[0m\u001b[1;33m\u001b[0m\u001b[0m\n\u001b[0;32m    570\u001b[0m             \u001b[1;32mif\u001b[0m \u001b[0mself\u001b[0m\u001b[1;33m.\u001b[0m\u001b[0m_connection\u001b[0m\u001b[1;33m.\u001b[0m\u001b[0m_have_next_result\u001b[0m\u001b[1;33m:\u001b[0m  \u001b[1;31m# pylint: disable=W0212\u001b[0m\u001b[1;33m\u001b[0m\u001b[1;33m\u001b[0m\u001b[0m\n",
      "\u001b[1;32m~\\anaconda3\\lib\\site-packages\\mysql\\connector\\connection.py\u001b[0m in \u001b[0;36mcmd_query\u001b[1;34m(self, query, raw, buffered, raw_as_string)\u001b[0m\n\u001b[0;32m    684\u001b[0m             \u001b[0mquery\u001b[0m \u001b[1;33m=\u001b[0m \u001b[0mquery\u001b[0m\u001b[1;33m.\u001b[0m\u001b[0mencode\u001b[0m\u001b[1;33m(\u001b[0m\u001b[1;34m'utf-8'\u001b[0m\u001b[1;33m)\u001b[0m\u001b[1;33m\u001b[0m\u001b[1;33m\u001b[0m\u001b[0m\n\u001b[0;32m    685\u001b[0m         \u001b[1;32mtry\u001b[0m\u001b[1;33m:\u001b[0m\u001b[1;33m\u001b[0m\u001b[1;33m\u001b[0m\u001b[0m\n\u001b[1;32m--> 686\u001b[1;33m             \u001b[0mresult\u001b[0m \u001b[1;33m=\u001b[0m \u001b[0mself\u001b[0m\u001b[1;33m.\u001b[0m\u001b[0m_handle_result\u001b[0m\u001b[1;33m(\u001b[0m\u001b[0mself\u001b[0m\u001b[1;33m.\u001b[0m\u001b[0m_send_cmd\u001b[0m\u001b[1;33m(\u001b[0m\u001b[0mServerCmd\u001b[0m\u001b[1;33m.\u001b[0m\u001b[0mQUERY\u001b[0m\u001b[1;33m,\u001b[0m \u001b[0mquery\u001b[0m\u001b[1;33m)\u001b[0m\u001b[1;33m)\u001b[0m\u001b[1;33m\u001b[0m\u001b[1;33m\u001b[0m\u001b[0m\n\u001b[0m\u001b[0;32m    687\u001b[0m         \u001b[1;32mexcept\u001b[0m \u001b[0merrors\u001b[0m\u001b[1;33m.\u001b[0m\u001b[0mProgrammingError\u001b[0m \u001b[1;32mas\u001b[0m \u001b[0merr\u001b[0m\u001b[1;33m:\u001b[0m\u001b[1;33m\u001b[0m\u001b[1;33m\u001b[0m\u001b[0m\n\u001b[0;32m    688\u001b[0m             \u001b[1;32mif\u001b[0m \u001b[0merr\u001b[0m\u001b[1;33m.\u001b[0m\u001b[0merrno\u001b[0m \u001b[1;33m==\u001b[0m \u001b[1;36m3948\u001b[0m \u001b[1;32mand\u001b[0m\u001b[0;31m \u001b[0m\u001b[0;31m\\\u001b[0m\u001b[1;33m\u001b[0m\u001b[1;33m\u001b[0m\u001b[0m\n",
      "\u001b[1;32m~\\anaconda3\\lib\\site-packages\\mysql\\connector\\connection.py\u001b[0m in \u001b[0;36m_handle_result\u001b[1;34m(self, packet)\u001b[0m\n\u001b[0;32m    571\u001b[0m             \u001b[1;32mreturn\u001b[0m \u001b[0mself\u001b[0m\u001b[1;33m.\u001b[0m\u001b[0m_handle_eof\u001b[0m\u001b[1;33m(\u001b[0m\u001b[0mpacket\u001b[0m\u001b[1;33m)\u001b[0m\u001b[1;33m\u001b[0m\u001b[1;33m\u001b[0m\u001b[0m\n\u001b[0;32m    572\u001b[0m         \u001b[1;32melif\u001b[0m \u001b[0mpacket\u001b[0m\u001b[1;33m[\u001b[0m\u001b[1;36m4\u001b[0m\u001b[1;33m]\u001b[0m \u001b[1;33m==\u001b[0m \u001b[1;36m255\u001b[0m\u001b[1;33m:\u001b[0m\u001b[1;33m\u001b[0m\u001b[1;33m\u001b[0m\u001b[0m\n\u001b[1;32m--> 573\u001b[1;33m             \u001b[1;32mraise\u001b[0m \u001b[0merrors\u001b[0m\u001b[1;33m.\u001b[0m\u001b[0mget_exception\u001b[0m\u001b[1;33m(\u001b[0m\u001b[0mpacket\u001b[0m\u001b[1;33m)\u001b[0m\u001b[1;33m\u001b[0m\u001b[1;33m\u001b[0m\u001b[0m\n\u001b[0m\u001b[0;32m    574\u001b[0m \u001b[1;33m\u001b[0m\u001b[0m\n\u001b[0;32m    575\u001b[0m         \u001b[1;31m# We have a text result set\u001b[0m\u001b[1;33m\u001b[0m\u001b[1;33m\u001b[0m\u001b[1;33m\u001b[0m\u001b[0m\n",
      "\u001b[1;31mProgrammingError\u001b[0m: 1060 (42S21): Duplicate column name 'emp_names'"
     ]
    }
   ],
   "source": [
    "mydb = mysql.connector.connect(host = 'localhost', user = 'user', password = 'password', database = 'Databeat')\n",
    "\n",
    "mycusror = mydb.cursor()\n",
    "\n",
    "mycusror.execute(\"ALTER TABLE Employees ADD COLUMN emp_names VARCHAR(50)\")\n",
    "\n",
    "'''result = mycusror.fetchall();\n",
    "print(result)\n",
    "'''\n",
    "mydb.close()"
   ]
  },
  {
   "cell_type": "code",
   "execution_count": 30,
   "metadata": {},
   "outputs": [],
   "source": [
    "mydb = mysql.connector.connect(host = 'localhost', user = 'user', password = 'password', database = 'Databeat')\n",
    "\n",
    "mycusror = mydb.cursor()\n",
    "\n",
    "mycusror.execute(\"UPDATE Employees SET emp_names = CONCAT(Employees.FIRST_NAME, ' ', Employees.LAST_NAME) WHERE DEPARTMENT = 'HR'\")\n",
    "\n",
    "'''result = mycusror.fetchall();\n",
    "print(result)'''\n",
    "mydb.commit()\n",
    "\n",
    "mydb.close()\n",
    "\n"
   ]
  },
  {
   "cell_type": "markdown",
   "metadata": {},
   "source": [
    "### Database normalization is a database schema design technique, by which an existing schema is modified to minimize redundancy and dependency of data. Normalization split a large table into smaller tables and define relationships between them to increases the clarity in organizing data."
   ]
  },
  {
   "cell_type": "markdown",
   "metadata": {},
   "source": [
    "### First Normal Form: The rules for a database to be classified as of first normal form is:\n",
    "### 1. Each set of columns must have a unique value such that multiple columns cannot be used to fetch the same row.\n",
    "### 2. Each record needs to be unique."
   ]
  },
  {
   "cell_type": "markdown",
   "metadata": {},
   "source": [
    "### Rules for second normal form:\n",
    "### 1- Be in 1NF\n",
    "### 2- Single Column Primary Key"
   ]
  },
  {
   "cell_type": "markdown",
   "metadata": {},
   "source": [
    "### Rules for third normal form:\n",
    "### 1- Be in 2NF\n",
    "### 2- Has no transitive functional dependencies"
   ]
  }
 ],
 "metadata": {
  "kernelspec": {
   "display_name": "Python 3",
   "language": "python",
   "name": "python3"
  },
  "language_info": {
   "codemirror_mode": {
    "name": "ipython",
    "version": 3
   },
   "file_extension": ".py",
   "mimetype": "text/x-python",
   "name": "python",
   "nbconvert_exporter": "python",
   "pygments_lexer": "ipython3",
   "version": "3.8.5"
  }
 },
 "nbformat": 4,
 "nbformat_minor": 4
}
